{
 "cells": [
  {
   "cell_type": "code",
   "execution_count": 69,
   "metadata": {},
   "outputs": [],
   "source": [
    "import numpy as np\n",
    "import pandas as pd\n",
    "import matplotlib.pyplot as plt\n",
    "import seaborn as sns\n",
    "\n",
    "import os"
   ]
  },
  {
   "cell_type": "code",
   "execution_count": 70,
   "metadata": {},
   "outputs": [
    {
     "ename": "FileNotFoundError",
     "evalue": "[Errno 2] No such file or directory: 'Future_data/TW'",
     "output_type": "error",
     "traceback": [
      "\u001b[0;31m---------------------------------------------------------------------------\u001b[0m",
      "\u001b[0;31mFileNotFoundError\u001b[0m                         Traceback (most recent call last)",
      "\u001b[0;32m<ipython-input-70-bb75d55fa6da>\u001b[0m in \u001b[0;36m<module>\u001b[0;34m\u001b[0m\n\u001b[1;32m      1\u001b[0m \u001b[0msns\u001b[0m\u001b[0;34m.\u001b[0m\u001b[0mset\u001b[0m\u001b[0;34m(\u001b[0m\u001b[0mstyle\u001b[0m\u001b[0;34m=\u001b[0m\u001b[0;34m\"darkgrid\"\u001b[0m\u001b[0;34m)\u001b[0m\u001b[0;34m\u001b[0m\u001b[0;34m\u001b[0m\u001b[0m\n\u001b[0;32m----> 2\u001b[0;31m \u001b[0mos\u001b[0m\u001b[0;34m.\u001b[0m\u001b[0mchdir\u001b[0m\u001b[0;34m(\u001b[0m\u001b[0;34m\"Future_data/TW\"\u001b[0m\u001b[0;34m)\u001b[0m\u001b[0;34m\u001b[0m\u001b[0;34m\u001b[0m\u001b[0m\n\u001b[0m",
      "\u001b[0;31mFileNotFoundError\u001b[0m: [Errno 2] No such file or directory: 'Future_data/TW'"
     ]
    }
   ],
   "source": [
    "sns.set(style=\"darkgrid\")\n",
    "os.chdir(\"Future_data/TW\") ## 換個位置啊"
   ]
  },
  {
   "cell_type": "code",
   "execution_count": 71,
   "metadata": {},
   "outputs": [],
   "source": [
    "df_o = pd.read_csv(\"TX_1.txt\", index_col = False, header=None)\n",
    "df_o.columns = [\"Date\",\"Time\",\"Open\",\"High\",\"Low\",\"Close\",\"Volume\"]"
   ]
  },
  {
   "cell_type": "code",
   "execution_count": 72,
   "metadata": {},
   "outputs": [
    {
     "data": {
      "text/plain": [
       "2109871"
      ]
     },
     "execution_count": 72,
     "metadata": {},
     "output_type": "execute_result"
    }
   ],
   "source": [
    "len(df_o)"
   ]
  },
  {
   "cell_type": "code",
   "execution_count": 131,
   "metadata": {},
   "outputs": [],
   "source": [
    "df = df_o[df_o[\"Date\"]< \"2001/01/01\"]"
   ]
  },
  {
   "cell_type": "code",
   "execution_count": 124,
   "metadata": {},
   "outputs": [
    {
     "name": "stdout",
     "output_type": "stream",
     "text": [
      "271 271 270 271 271\n"
     ]
    }
   ],
   "source": [
    "df_d_h = df[[\"Date\",\"High\"]].groupby(\"Date\").max()\n",
    "df_d_L = df[[\"Date\",\"Low\"]].groupby(\"Date\").min()\n",
    "df_d_O = df[df[\"Time\"] == \"09:01:00\"][[\"Date\",\"Open\"]].set_index(\"Date\")\n",
    "df_d_C = df[df[\"Time\"] == \"13:45:00\"][[\"Date\",\"Close\"]].set_index(\"Date\")\n",
    "df_d_V = df[[\"Date\",\"Volume\"]].groupby([\"Date\"]).sum()\n",
    "\n",
    "print(len(df_d_h),len(df_d_L),len(df_d_O),len(df_d_C),len(df_d_V))"
   ]
  },
  {
   "cell_type": "code",
   "execution_count": 129,
   "metadata": {},
   "outputs": [],
   "source": [
    "df_d = pd.concat([df_d_h,df_d_L,df_d_O,df_d_C,df_d_V], axis = 1)"
   ]
  },
  {
   "cell_type": "code",
   "execution_count": 135,
   "metadata": {},
   "outputs": [
    {
     "data": {
      "text/plain": [
       "High      0\n",
       "Low       0\n",
       "Open      1\n",
       "Close     0\n",
       "Volume    0\n",
       "dtype: int64"
      ]
     },
     "execution_count": 135,
     "metadata": {},
     "output_type": "execute_result"
    }
   ],
   "source": [
    "df_d.isnull().sum()"
   ]
  },
  {
   "cell_type": "code",
   "execution_count": 147,
   "metadata": {},
   "outputs": [],
   "source": [
    "df_d = df_d.dropna()"
   ]
  },
  {
   "cell_type": "code",
   "execution_count": 148,
   "metadata": {},
   "outputs": [
    {
     "data": {
      "text/html": [
       "<div>\n",
       "<style scoped>\n",
       "    .dataframe tbody tr th:only-of-type {\n",
       "        vertical-align: middle;\n",
       "    }\n",
       "\n",
       "    .dataframe tbody tr th {\n",
       "        vertical-align: top;\n",
       "    }\n",
       "\n",
       "    .dataframe thead th {\n",
       "        text-align: right;\n",
       "    }\n",
       "</style>\n",
       "<table border=\"1\" class=\"dataframe\">\n",
       "  <thead>\n",
       "    <tr style=\"text-align: right;\">\n",
       "      <th></th>\n",
       "      <th>High</th>\n",
       "      <th>Low</th>\n",
       "      <th>Open</th>\n",
       "      <th>Close</th>\n",
       "      <th>Volume</th>\n",
       "    </tr>\n",
       "  </thead>\n",
       "  <tbody>\n",
       "    <tr>\n",
       "      <th>2000/01/04</th>\n",
       "      <td>8939</td>\n",
       "      <td>8650</td>\n",
       "      <td>8688.0</td>\n",
       "      <td>8843</td>\n",
       "      <td>2800</td>\n",
       "    </tr>\n",
       "    <tr>\n",
       "      <th>2000/01/05</th>\n",
       "      <td>8870</td>\n",
       "      <td>8671</td>\n",
       "      <td>8718.0</td>\n",
       "      <td>8810</td>\n",
       "      <td>2854</td>\n",
       "    </tr>\n",
       "    <tr>\n",
       "      <th>2000/01/06</th>\n",
       "      <td>9005</td>\n",
       "      <td>8820</td>\n",
       "      <td>8840.0</td>\n",
       "      <td>8850</td>\n",
       "      <td>2501</td>\n",
       "    </tr>\n",
       "    <tr>\n",
       "      <th>2000/01/07</th>\n",
       "      <td>8870</td>\n",
       "      <td>8711</td>\n",
       "      <td>8781.0</td>\n",
       "      <td>8829</td>\n",
       "      <td>2409</td>\n",
       "    </tr>\n",
       "    <tr>\n",
       "      <th>2000/01/10</th>\n",
       "      <td>9200</td>\n",
       "      <td>8880</td>\n",
       "      <td>8949.0</td>\n",
       "      <td>9200</td>\n",
       "      <td>2638</td>\n",
       "    </tr>\n",
       "    <tr>\n",
       "      <th>...</th>\n",
       "      <td>...</td>\n",
       "      <td>...</td>\n",
       "      <td>...</td>\n",
       "      <td>...</td>\n",
       "      <td>...</td>\n",
       "    </tr>\n",
       "    <tr>\n",
       "      <th>2000/12/26</th>\n",
       "      <td>4906</td>\n",
       "      <td>4688</td>\n",
       "      <td>4877.0</td>\n",
       "      <td>4688</td>\n",
       "      <td>7223</td>\n",
       "    </tr>\n",
       "    <tr>\n",
       "      <th>2000/12/27</th>\n",
       "      <td>4658</td>\n",
       "      <td>4561</td>\n",
       "      <td>4658.0</td>\n",
       "      <td>4565</td>\n",
       "      <td>6420</td>\n",
       "    </tr>\n",
       "    <tr>\n",
       "      <th>2000/12/28</th>\n",
       "      <td>4879</td>\n",
       "      <td>4566</td>\n",
       "      <td>4608.0</td>\n",
       "      <td>4867</td>\n",
       "      <td>11954</td>\n",
       "    </tr>\n",
       "    <tr>\n",
       "      <th>2000/12/29</th>\n",
       "      <td>4835</td>\n",
       "      <td>4697</td>\n",
       "      <td>4800.0</td>\n",
       "      <td>4707</td>\n",
       "      <td>9409</td>\n",
       "    </tr>\n",
       "    <tr>\n",
       "      <th>2000/12/30</th>\n",
       "      <td>4830</td>\n",
       "      <td>4644</td>\n",
       "      <td>4650.0</td>\n",
       "      <td>4770</td>\n",
       "      <td>10126</td>\n",
       "    </tr>\n",
       "  </tbody>\n",
       "</table>\n",
       "<p>270 rows × 5 columns</p>\n",
       "</div>"
      ],
      "text/plain": [
       "            High   Low    Open  Close  Volume\n",
       "2000/01/04  8939  8650  8688.0   8843    2800\n",
       "2000/01/05  8870  8671  8718.0   8810    2854\n",
       "2000/01/06  9005  8820  8840.0   8850    2501\n",
       "2000/01/07  8870  8711  8781.0   8829    2409\n",
       "2000/01/10  9200  8880  8949.0   9200    2638\n",
       "...          ...   ...     ...    ...     ...\n",
       "2000/12/26  4906  4688  4877.0   4688    7223\n",
       "2000/12/27  4658  4561  4658.0   4565    6420\n",
       "2000/12/28  4879  4566  4608.0   4867   11954\n",
       "2000/12/29  4835  4697  4800.0   4707    9409\n",
       "2000/12/30  4830  4644  4650.0   4770   10126\n",
       "\n",
       "[270 rows x 5 columns]"
      ]
     },
     "execution_count": 148,
     "metadata": {},
     "output_type": "execute_result"
    }
   ],
   "source": [
    "df_d"
   ]
  },
  {
   "cell_type": "code",
   "execution_count": 47,
   "metadata": {},
   "outputs": [],
   "source": []
  },
  {
   "cell_type": "code",
   "execution_count": 54,
   "metadata": {},
   "outputs": [],
   "source": []
  },
  {
   "cell_type": "code",
   "execution_count": null,
   "metadata": {},
   "outputs": [],
   "source": []
  },
  {
   "cell_type": "code",
   "execution_count": null,
   "metadata": {},
   "outputs": [],
   "source": []
  },
  {
   "cell_type": "code",
   "execution_count": null,
   "metadata": {},
   "outputs": [],
   "source": []
  },
  {
   "cell_type": "code",
   "execution_count": null,
   "metadata": {},
   "outputs": [],
   "source": []
  },
  {
   "cell_type": "code",
   "execution_count": null,
   "metadata": {},
   "outputs": [],
   "source": []
  },
  {
   "cell_type": "code",
   "execution_count": null,
   "metadata": {},
   "outputs": [],
   "source": []
  }
 ],
 "metadata": {
  "kernelspec": {
   "display_name": "Python 3",
   "language": "python",
   "name": "python3"
  },
  "language_info": {
   "codemirror_mode": {
    "name": "ipython",
    "version": 3
   },
   "file_extension": ".py",
   "mimetype": "text/x-python",
   "name": "python",
   "nbconvert_exporter": "python",
   "pygments_lexer": "ipython3",
   "version": "3.6.8"
  }
 },
 "nbformat": 4,
 "nbformat_minor": 4
}
