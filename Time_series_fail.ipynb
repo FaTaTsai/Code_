{
 "cells": [
  {
   "cell_type": "code",
   "execution_count": 268,
   "metadata": {},
   "outputs": [],
   "source": [
    "import pandas as pd\n",
    "import numpy as np\n",
    "import matplotlib.pyplot as plt"
   ]
  },
  {
   "cell_type": "code",
   "execution_count": 269,
   "metadata": {},
   "outputs": [],
   "source": [
    "df = pd.read_csv(\"2016_Taiwan_index.csv\", index_col = 0)\n",
    "##df = df[df[\"Date\"] <= \"2017/06/06\"]"
   ]
  },
  {
   "cell_type": "code",
   "execution_count": 270,
   "metadata": {},
   "outputs": [
    {
     "data": {
      "text/html": [
       "<div>\n",
       "<style scoped>\n",
       "    .dataframe tbody tr th:only-of-type {\n",
       "        vertical-align: middle;\n",
       "    }\n",
       "\n",
       "    .dataframe tbody tr th {\n",
       "        vertical-align: top;\n",
       "    }\n",
       "\n",
       "    .dataframe thead th {\n",
       "        text-align: right;\n",
       "    }\n",
       "</style>\n",
       "<table border=\"1\" class=\"dataframe\">\n",
       "  <thead>\n",
       "    <tr style=\"text-align: right;\">\n",
       "      <th></th>\n",
       "      <th>Date</th>\n",
       "      <th>Time</th>\n",
       "      <th>Open</th>\n",
       "      <th>High</th>\n",
       "      <th>Low</th>\n",
       "      <th>Close</th>\n",
       "      <th>Mean</th>\n",
       "      <th>Variance</th>\n",
       "    </tr>\n",
       "  </thead>\n",
       "  <tbody>\n",
       "    <tr>\n",
       "      <th>0</th>\n",
       "      <td>2016/01/04</td>\n",
       "      <td>09:29:55</td>\n",
       "      <td>8338.06</td>\n",
       "      <td>8338.06</td>\n",
       "      <td>8215.64</td>\n",
       "      <td>8215.64</td>\n",
       "      <td>8272.268</td>\n",
       "      <td>1363.923</td>\n",
       "    </tr>\n",
       "    <tr>\n",
       "      <th>1</th>\n",
       "      <td>2016/01/04</td>\n",
       "      <td>09:59:55</td>\n",
       "      <td>8214.68</td>\n",
       "      <td>8214.68</td>\n",
       "      <td>8151.58</td>\n",
       "      <td>8160.75</td>\n",
       "      <td>8181.038</td>\n",
       "      <td>307.918</td>\n",
       "    </tr>\n",
       "    <tr>\n",
       "      <th>2</th>\n",
       "      <td>2016/01/04</td>\n",
       "      <td>10:29:55</td>\n",
       "      <td>8158.19</td>\n",
       "      <td>8166.35</td>\n",
       "      <td>8109.09</td>\n",
       "      <td>8124.52</td>\n",
       "      <td>8134.721</td>\n",
       "      <td>228.027</td>\n",
       "    </tr>\n",
       "    <tr>\n",
       "      <th>3</th>\n",
       "      <td>2016/01/04</td>\n",
       "      <td>10:59:55</td>\n",
       "      <td>8129.48</td>\n",
       "      <td>8156.19</td>\n",
       "      <td>8122.40</td>\n",
       "      <td>8154.11</td>\n",
       "      <td>8140.274</td>\n",
       "      <td>53.370</td>\n",
       "    </tr>\n",
       "    <tr>\n",
       "      <th>4</th>\n",
       "      <td>2016/01/04</td>\n",
       "      <td>11:29:55</td>\n",
       "      <td>8154.14</td>\n",
       "      <td>8158.11</td>\n",
       "      <td>8136.83</td>\n",
       "      <td>8152.62</td>\n",
       "      <td>8145.440</td>\n",
       "      <td>20.845</td>\n",
       "    </tr>\n",
       "    <tr>\n",
       "      <th>...</th>\n",
       "      <td>...</td>\n",
       "      <td>...</td>\n",
       "      <td>...</td>\n",
       "      <td>...</td>\n",
       "      <td>...</td>\n",
       "      <td>...</td>\n",
       "      <td>...</td>\n",
       "      <td>...</td>\n",
       "    </tr>\n",
       "    <tr>\n",
       "      <th>9994</th>\n",
       "      <td>2020/07/31</td>\n",
       "      <td>11:29:55</td>\n",
       "      <td>12672.74</td>\n",
       "      <td>12679.18</td>\n",
       "      <td>12655.45</td>\n",
       "      <td>12673.87</td>\n",
       "      <td>12669.328</td>\n",
       "      <td>34.220</td>\n",
       "    </tr>\n",
       "    <tr>\n",
       "      <th>9995</th>\n",
       "      <td>2020/07/31</td>\n",
       "      <td>11:59:55</td>\n",
       "      <td>12677.63</td>\n",
       "      <td>12704.79</td>\n",
       "      <td>12671.56</td>\n",
       "      <td>12701.56</td>\n",
       "      <td>12684.091</td>\n",
       "      <td>71.102</td>\n",
       "    </tr>\n",
       "    <tr>\n",
       "      <th>9996</th>\n",
       "      <td>2020/07/31</td>\n",
       "      <td>12:29:55</td>\n",
       "      <td>12696.78</td>\n",
       "      <td>12712.63</td>\n",
       "      <td>12681.82</td>\n",
       "      <td>12710.60</td>\n",
       "      <td>12692.143</td>\n",
       "      <td>66.087</td>\n",
       "    </tr>\n",
       "    <tr>\n",
       "      <th>9997</th>\n",
       "      <td>2020/07/31</td>\n",
       "      <td>12:59:55</td>\n",
       "      <td>12705.62</td>\n",
       "      <td>12720.02</td>\n",
       "      <td>12703.27</td>\n",
       "      <td>12714.58</td>\n",
       "      <td>12709.548</td>\n",
       "      <td>14.870</td>\n",
       "    </tr>\n",
       "    <tr>\n",
       "      <th>9998</th>\n",
       "      <td>2020/07/31</td>\n",
       "      <td>13:29:55</td>\n",
       "      <td>12720.16</td>\n",
       "      <td>12731.42</td>\n",
       "      <td>12711.05</td>\n",
       "      <td>12731.42</td>\n",
       "      <td>12720.788</td>\n",
       "      <td>32.018</td>\n",
       "    </tr>\n",
       "  </tbody>\n",
       "</table>\n",
       "<p>9999 rows × 8 columns</p>\n",
       "</div>"
      ],
      "text/plain": [
       "            Date      Time      Open      High       Low     Close       Mean  \\\n",
       "0     2016/01/04  09:29:55   8338.06   8338.06   8215.64   8215.64   8272.268   \n",
       "1     2016/01/04  09:59:55   8214.68   8214.68   8151.58   8160.75   8181.038   \n",
       "2     2016/01/04  10:29:55   8158.19   8166.35   8109.09   8124.52   8134.721   \n",
       "3     2016/01/04  10:59:55   8129.48   8156.19   8122.40   8154.11   8140.274   \n",
       "4     2016/01/04  11:29:55   8154.14   8158.11   8136.83   8152.62   8145.440   \n",
       "...          ...       ...       ...       ...       ...       ...        ...   \n",
       "9994  2020/07/31  11:29:55  12672.74  12679.18  12655.45  12673.87  12669.328   \n",
       "9995  2020/07/31  11:59:55  12677.63  12704.79  12671.56  12701.56  12684.091   \n",
       "9996  2020/07/31  12:29:55  12696.78  12712.63  12681.82  12710.60  12692.143   \n",
       "9997  2020/07/31  12:59:55  12705.62  12720.02  12703.27  12714.58  12709.548   \n",
       "9998  2020/07/31  13:29:55  12720.16  12731.42  12711.05  12731.42  12720.788   \n",
       "\n",
       "      Variance  \n",
       "0     1363.923  \n",
       "1      307.918  \n",
       "2      228.027  \n",
       "3       53.370  \n",
       "4       20.845  \n",
       "...        ...  \n",
       "9994    34.220  \n",
       "9995    71.102  \n",
       "9996    66.087  \n",
       "9997    14.870  \n",
       "9998    32.018  \n",
       "\n",
       "[9999 rows x 8 columns]"
      ]
     },
     "execution_count": 270,
     "metadata": {},
     "output_type": "execute_result"
    }
   ],
   "source": [
    "df"
   ]
  },
  {
   "cell_type": "code",
   "execution_count": 271,
   "metadata": {},
   "outputs": [],
   "source": [
    "## to stationary\n",
    "df[\"diff\"] = (df[\"Open\"] - df[\"Mean\"])"
   ]
  },
  {
   "cell_type": "code",
   "execution_count": 272,
   "metadata": {},
   "outputs": [
    {
     "data": {
      "text/plain": [
       "[<matplotlib.lines.Line2D at 0x7fca6522ed30>]"
      ]
     },
     "execution_count": 272,
     "metadata": {},
     "output_type": "execute_result"
    },
    {
     "data": {
      "image/png": "[encoded data removed]",
      "text/plain": [
       "<Figure size 432x288 with 1 Axes>"
      ]
     },
     "metadata": {
      "needs_background": "light"
     },
     "output_type": "display_data"
    }
   ],
   "source": [
    "plt.plot(df[\"diff\"])"
   ]
  },
  {
   "cell_type": "code",
   "execution_count": 274,
   "metadata": {},
   "outputs": [],
   "source": [
    "df[\"diff\"]= (df[[\"diff\"]] - df[\"diff\"].mean()) / df[\"diff\"].std()"
   ]
  },
  {
   "cell_type": "code",
   "execution_count": 275,
   "metadata": {},
   "outputs": [
    {
     "data": {
      "text/plain": [
       "[<matplotlib.lines.Line2D at 0x7fca334c3630>]"
      ]
     },
     "execution_count": 275,
     "metadata": {},
     "output_type": "execute_result"
    },
    {
     "data": {
      "image/png": "[encoded data removed]",
      "text/plain": [
       "<Figure size 432x288 with 1 Axes>"
      ]
     },
     "metadata": {
      "needs_background": "light"
     },
     "output_type": "display_data"
    }
   ],
   "source": [
    "plt.plot(df[\"diff\"])"
   ]
  },
  {
   "cell_type": "code",
   "execution_count": 276,
   "metadata": {},
   "outputs": [
    {
     "name": "stdout",
     "output_type": "stream",
     "text": [
      "ADF Statistic: -15.510792\n",
      "p-value: 0.000000\n",
      "Critical Values:\n",
      "\t1%: -3.431\n",
      "\t5%: -2.862\n",
      "\t10%: -2.567\n"
     ]
    }
   ],
   "source": [
    "from statsmodels.tsa.stattools import adfuller\n",
    "X = df[\"diff\"]\n",
    "result = adfuller(X)\n",
    "print('ADF Statistic: %f' % result[0])\n",
    "print('p-value: %f' % result[1])\n",
    "print('Critical Values:')\n",
    "for key, value in result[4].items():\n",
    "\tprint('\\t%s: %.3f' % (key, value))"
   ]
  },
  {
   "cell_type": "code",
   "execution_count": 283,
   "metadata": {},
   "outputs": [],
   "source": [
    "from statsmodels.graphics.tsaplots import plot_acf, plot_pacf\n",
    "from statsmodels.tsa.arima_model import ARIMA"
   ]
  },
  {
   "cell_type": "code",
   "execution_count": 324,
   "metadata": {},
   "outputs": [
    {
     "data": {
      "image/png": "[encoded data removed]",
      "text/plain": [
       "<Figure size 432x288 with 1 Axes>"
      ]
     },
     "metadata": {
      "needs_background": "light"
     },
     "output_type": "display_data"
    }
   ],
   "source": [
    "plot_pacf(X[:1000])\n",
    "plt.show()"
   ]
  },
  {
   "cell_type": "code",
   "execution_count": 326,
   "metadata": {},
   "outputs": [
    {
     "data": {
      "image/png": "[encoded data removed]",
      "text/plain": [
       "<Figure size 432x288 with 1 Axes>"
      ]
     },
     "metadata": {
      "needs_background": "light"
     },
     "output_type": "display_data"
    }
   ],
   "source": [
    "plot_acf(X[:1000])\n",
    "plt.show()"
   ]
  },
  {
   "cell_type": "code",
   "execution_count": 327,
   "metadata": {},
   "outputs": [
    {
     "name": "stderr",
     "output_type": "stream",
     "text": [
      "/Users/liuminghan/Desktop/Taiwan_Index/venv/lib/python3.6/site-packages/statsmodels/tsa/arima_model.py:472: FutureWarning: \n",
      "statsmodels.tsa.arima_model.ARMA and statsmodels.tsa.arima_model.ARIMA have\n",
      "been deprecated in favor of statsmodels.tsa.arima.model.ARIMA (note the .\n",
      "between arima and model) and\n",
      "statsmodels.tsa.SARIMAX. These will be removed after the 0.12 release.\n",
      "\n",
      "statsmodels.tsa.arima.model.ARIMA makes use of the statespace framework and\n",
      "is both well tested and maintained.\n",
      "\n",
      "To silence this warning and continue using ARMA and ARIMA until they are\n",
      "removed, use:\n",
      "\n",
      "import warnings\n",
      "warnings.filterwarnings('ignore', 'statsmodels.tsa.arima_model.ARMA',\n",
      "                        FutureWarning)\n",
      "warnings.filterwarnings('ignore', 'statsmodels.tsa.arima_model.ARIMA',\n",
      "                        FutureWarning)\n",
      "\n",
      "  warnings.warn(ARIMA_DEPRECATION_WARN, FutureWarning)\n"
     ]
    }
   ],
   "source": [
    "#create the model\n",
    "X_train = X[:1000]\n",
    "model = ARIMA(X, order=(4,1,0))"
   ]
  },
  {
   "cell_type": "code",
   "execution_count": 328,
   "metadata": {},
   "outputs": [],
   "source": [
    "model_fit = model.fit()"
   ]
  },
  {
   "cell_type": "code",
   "execution_count": 329,
   "metadata": {},
   "outputs": [],
   "source": [
    "prediction = model_fit.forecast(100)"
   ]
  },
  {
   "cell_type": "code",
   "execution_count": 330,
   "metadata": {},
   "outputs": [],
   "source": [
    "prediction_ = prediction[0]\n",
    "lower_bound = prediction[2][:,0]\n",
    "upper_bound = prediction[2][:,1]"
   ]
  },
  {
   "cell_type": "code",
   "execution_count": 331,
   "metadata": {},
   "outputs": [
    {
     "data": {
      "text/plain": [
       "[<matplotlib.lines.Line2D at 0x7fc9a2557198>]"
      ]
     },
     "execution_count": 331,
     "metadata": {},
     "output_type": "execute_result"
    },
    {
     "data": {
      "image/png": "[encoded data removed]",
      "text/plain": [
       "<Figure size 432x288 with 1 Axes>"
      ]
     },
     "metadata": {
      "needs_background": "light"
     },
     "output_type": "display_data"
    }
   ],
   "source": [
    "plt.plot(prediction_, color = \"b\")\n",
    "plt.plot(X[1000:1100].reset_index(drop = True), color = \"r\")"
   ]
  },
  {
   "cell_type": "code",
   "execution_count": 375,
   "metadata": {},
   "outputs": [],
   "source": [
    "import random "
   ]
  },
  {
   "cell_type": "code",
   "execution_count": 378,
   "metadata": {},
   "outputs": [],
   "source": [
    "\n",
    "\n",
    "\n",
    "position_list = []\n",
    "\n",
    "for j in range(10000):\n",
    "    \n",
    "    position = 0\n",
    "    \n",
    "    for i in range(100):\n",
    "        rv = random.randint(0,1)\n",
    "\n",
    "        if rv == 1:\n",
    "            position +=1\n",
    "        if rv == 0:\n",
    "            position -=1\n",
    "        position_list.append(abs(position))\n",
    "    \n"
   ]
  },
  {
   "cell_type": "code",
   "execution_count": 379,
   "metadata": {},
   "outputs": [
    {
     "data": {
      "text/plain": [
       "array([[<AxesSubplot:title={'center':'0'}>]], dtype=object)"
      ]
     },
     "execution_count": 379,
     "metadata": {},
     "output_type": "execute_result"
    },
    {
     "data": {
      "image/png": "[encoded data removed]",
      "text/plain": [
       "<Figure size 432x288 with 1 Axes>"
      ]
     },
     "metadata": {
      "needs_background": "light"
     },
     "output_type": "display_data"
    }
   ],
   "source": [
    "pd.DataFrame(position_list).hist()"
   ]
  },
  {
   "cell_type": "code",
   "execution_count": 381,
   "metadata": {},
   "outputs": [
    {
     "data": {
      "text/plain": [
       "5.345218"
      ]
     },
     "execution_count": 381,
     "metadata": {},
     "output_type": "execute_result"
    }
   ],
   "source": [
    "np.sum(position_list) / 1000000"
   ]
  },
  {
   "cell_type": "code",
   "execution_count": null,
   "metadata": {},
   "outputs": [],
   "source": []
  }
 ],
 "metadata": {
  "kernelspec": {
   "display_name": "Python 3",
   "language": "python",
   "name": "python3"
  },
  "language_info": {
   "codemirror_mode": {
    "name": "ipython",
    "version": 3
   },
   "file_extension": ".py",
   "mimetype": "text/x-python",
   "name": "python",
   "nbconvert_exporter": "python",
   "pygments_lexer": "ipython3",
   "version": "3.6.8"
  }
 },
 "nbformat": 4,
 "nbformat_minor": 4
}
